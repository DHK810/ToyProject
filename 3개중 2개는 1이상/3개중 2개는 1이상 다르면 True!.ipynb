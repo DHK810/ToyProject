{
 "cells": [
  {
   "cell_type": "code",
   "execution_count": null,
   "metadata": {},
   "outputs": [],
   "source": [
    "3 개의 int, abc가 주어지면 b 또는 c 중 하나가 \"close\"(a와 1과 다르다)이고\n",
    "다른 하나는 \"far\"이고 다른 값과 둘 다 다른 경우 True를 반환합니다.\n",
    "참고 : abs (num)은 숫자의 절대 값을 계산합니다.\n",
    "\n",
    "##함수\n",
    "close_far (1, 2, 10) → True \n",
    "close_far (1, 2, 3) → 거짓 \n",
    "close_far (4, 1, 3) → 참\n"
   ]
  },
  {
   "cell_type": "code",
   "execution_count": null,
   "metadata": {},
   "outputs": [],
   "source": []
  }
 ],
 "metadata": {
  "kernelspec": {
   "display_name": "Python 3",
   "language": "python",
   "name": "python3"
  },
  "language_info": {
   "codemirror_mode": {
    "name": "ipython",
    "version": 3
   },
   "file_extension": ".py",
   "mimetype": "text/x-python",
   "name": "python",
   "nbconvert_exporter": "python",
   "pygments_lexer": "ipython3",
   "version": "3.6.8"
  }
 },
 "nbformat": 4,
 "nbformat_minor": 2
}
